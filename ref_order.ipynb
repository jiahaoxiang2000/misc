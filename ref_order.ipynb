{
 "cells": [
  {
   "cell_type": "code",
   "execution_count": 5,
   "metadata": {},
   "outputs": [],
   "source": [
    "# read the file\n",
    "# the file is list of the \\bibitem{Gupta2013} K.C. Gupta and I.G. Ray (2013). On Constructions of Involutory MDS Matrices [C]. In {\\it International Conference on Cryptology in Africa}, 43--60.\n",
    "# we need reorder item by the alphabet order of the author name\n",
    "# output the reordered file\n",
    "\n",
    "import re\n",
    "\n",
    "# read the file\n",
    "with open('data/ref.txt', 'r') as f:\n",
    "    bibitems = f.readlines()\n",
    "\n",
    "# extract author names and sort\n",
    "sorted_bibitems = sorted(bibitems, key=lambda item: re.search(r'\\{(.+?)\\}', item).group(1) if re.search(r'\\{(.+?)\\}', item) else '')\n",
    "\n",
    "# write the reordered items back to the file\n",
    "with open('data/ref.txt', 'w') as f:\n",
    "    f.writelines(sorted_bibitems)"
   ]
  }
 ],
 "metadata": {
  "kernelspec": {
   "display_name": "misc",
   "language": "python",
   "name": "python3"
  },
  "language_info": {
   "codemirror_mode": {
    "name": "ipython",
    "version": 3
   },
   "file_extension": ".py",
   "mimetype": "text/x-python",
   "name": "python",
   "nbconvert_exporter": "python",
   "pygments_lexer": "ipython3",
   "version": "3.11.9"
  }
 },
 "nbformat": 4,
 "nbformat_minor": 2
}
