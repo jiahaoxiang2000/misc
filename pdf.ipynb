{
 "cells": [
  {
   "cell_type": "code",
   "execution_count": 1,
   "metadata": {},
   "outputs": [
    {
     "data": {
      "text/plain": [
       "'./data/2.pdf'"
      ]
     },
     "execution_count": 1,
     "metadata": {},
     "output_type": "execute_result"
    }
   ],
   "source": [
    "from PyPDF2 import PdfReader, PdfWriter\n",
    "\n",
    "# Load the original PDF\n",
    "input_path = \"./data/1.pdf\"\n",
    "output_path = \"./data/2.pdf\"\n",
    "\n",
    "reader = PdfReader(input_path)\n",
    "writer = PdfWriter()\n",
    "\n",
    "# Modify the text on the specific page where the date needs to be changed\n",
    "for page in reader.pages:\n",
    "    text = page.extract_text()\n",
    "    if \"检测时间:2024-09-13\" in text:\n",
    "        new_text = text.replace(\"检测时间:2024-09-13\", \"检测时间:2017-09-13\")\n",
    "        page_text = new_text\n",
    "    else:\n",
    "        page_text = text\n",
    "    writer.add_page(page)\n",
    "\n",
    "# Save the modified PDF\n",
    "with open(output_path, \"wb\") as output_pdf:\n",
    "    writer.write(output_pdf)\n",
    "\n",
    "output_path"
   ]
  },
  {
   "cell_type": "code",
   "execution_count": 6,
   "metadata": {},
   "outputs": [
    {
     "ename": "AttributeError",
     "evalue": "module 'fitz' has no attribute 'open'",
     "output_type": "error",
     "traceback": [
      "\u001b[0;31m---------------------------------------------------------------------------\u001b[0m",
      "\u001b[0;31mAttributeError\u001b[0m                            Traceback (most recent call last)",
      "Cell \u001b[0;32mIn[6], line 8\u001b[0m\n\u001b[1;32m      5\u001b[0m output_path \u001b[38;5;241m=\u001b[39m \u001b[38;5;124m\"\u001b[39m\u001b[38;5;124m./data/2.pdf\u001b[39m\u001b[38;5;124m\"\u001b[39m\n\u001b[1;32m      7\u001b[0m \u001b[38;5;66;03m# Open the PDF with PyMuPDF\u001b[39;00m\n\u001b[0;32m----> 8\u001b[0m doc \u001b[38;5;241m=\u001b[39m \u001b[43mfitz\u001b[49m\u001b[38;5;241;43m.\u001b[39;49m\u001b[43mopen\u001b[49m(input_path)\n\u001b[1;32m     10\u001b[0m \u001b[38;5;66;03m# Iterate through each page and replace the date\u001b[39;00m\n\u001b[1;32m     11\u001b[0m \u001b[38;5;28;01mfor\u001b[39;00m page_num \u001b[38;5;129;01min\u001b[39;00m \u001b[38;5;28mrange\u001b[39m(\u001b[38;5;28mlen\u001b[39m(doc)):\n",
      "\u001b[0;31mAttributeError\u001b[0m: module 'fitz' has no attribute 'open'"
     ]
    }
   ],
   "source": [
    "import fitz  # PyMuPDF for handling PDFs with more precise text extraction and editing\n",
    "\n",
    "# Load the original PDF\n",
    "input_path = \"./data/1.pdf\"\n",
    "output_path = \"./data/2.pdf\"\n",
    "\n",
    "# Open the PDF with PyMuPDF\n",
    "doc = fitz.open(input_path)\n",
    "\n",
    "# Iterate through each page and replace the date\n",
    "for page_num in range(len(doc)):\n",
    "    page = doc[page_num]\n",
    "    text_instances = page.search_for(\"2024-09-13\")\n",
    "\n",
    "    # Replace text instances with the new date\n",
    "    for inst in text_instances:\n",
    "        page.insert_text(\n",
    "            inst, \"2017-09-13\", fontname=\"helv\", fontsize=11, color=(0, 0, 0)\n",
    "        )\n",
    "\n",
    "# Save the updated PDF\n",
    "doc.save(output_path)\n",
    "doc.close()\n",
    "\n",
    "output_path"
   ]
  },
  {
   "cell_type": "code",
   "execution_count": 7,
   "metadata": {},
   "outputs": [
    {
     "ename": "AttributeError",
     "evalue": "'ImageDraw' object has no attribute 'textsize'",
     "output_type": "error",
     "traceback": [
      "\u001b[0;31m---------------------------------------------------------------------------\u001b[0m",
      "\u001b[0;31mAttributeError\u001b[0m                            Traceback (most recent call last)",
      "Cell \u001b[0;32mIn[7], line 23\u001b[0m\n\u001b[1;32m     20\u001b[0m font \u001b[38;5;241m=\u001b[39m ImageFont\u001b[38;5;241m.\u001b[39mload_default()\n\u001b[1;32m     22\u001b[0m \u001b[38;5;66;03m# Look for text position on the page (basic estimation approach)\u001b[39;00m\n\u001b[0;32m---> 23\u001b[0m text_width, text_height \u001b[38;5;241m=\u001b[39m \u001b[43mdraw\u001b[49m\u001b[38;5;241;43m.\u001b[39;49m\u001b[43mtextsize\u001b[49m(text_to_replace, font\u001b[38;5;241m=\u001b[39mfont)\n\u001b[1;32m     25\u001b[0m \u001b[38;5;66;03m# Hardcoding position based on PDF layout, for demonstration purposes:\u001b[39;00m\n\u001b[1;32m     26\u001b[0m position \u001b[38;5;241m=\u001b[39m (\u001b[38;5;241m380\u001b[39m, \u001b[38;5;241m50\u001b[39m)  \u001b[38;5;66;03m# These values would need calibration\u001b[39;00m\n",
      "\u001b[0;31mAttributeError\u001b[0m: 'ImageDraw' object has no attribute 'textsize'"
     ]
    }
   ],
   "source": [
    "from pdf2image import convert_from_path\n",
    "from PIL import Image, ImageDraw, ImageFont\n",
    "\n",
    "input_path = \"./data/1.pdf\"\n",
    "# Convert the PDF to images\n",
    "pages = convert_from_path(input_path)\n",
    "\n",
    "# Prepare to update the date on the first page\n",
    "# Locate and replace the date in the image\n",
    "for i, page in enumerate(pages):\n",
    "    # Convert page to RGB mode for editing\n",
    "    page_rgb = page.convert(\"RGB\")\n",
    "    draw = ImageDraw.Draw(page_rgb)\n",
    "\n",
    "    # Define the area and position where the date text will be updated\n",
    "    text_to_replace = \"2024-09-13\"\n",
    "    replacement_text = \"2017-09-13\"\n",
    "\n",
    "    # Specify a basic font (font choice might vary on the actual system environment)\n",
    "    font = ImageFont.load_default()\n",
    "\n",
    "    # Look for text position on the page (basic estimation approach)\n",
    "    text_width, text_height = draw.textsize(text_to_replace, font=font)\n",
    "\n",
    "    # Hardcoding position based on PDF layout, for demonstration purposes:\n",
    "    position = (380, 50)  # These values would need calibration\n",
    "\n",
    "    # Draw over the existing text with a white rectangle\n",
    "    draw.rectangle(\n",
    "        [position, (position[0] + text_width, position[1] + text_height)], fill=\"white\"\n",
    "    )\n",
    "\n",
    "    # Place new text over it\n",
    "    draw.text(position, replacement_text, fill=\"black\", font=font)\n",
    "\n",
    "    # Save the modified page as an image\n",
    "    pages[i] = page_rgb\n",
    "\n",
    "# Save all images back into a single PDF\n",
    "updated_pdf_path = \"./data/2.pdf\"\n",
    "pages[0].save(updated_pdf_path, save_all=True, append_images=pages[1:])\n",
    "\n",
    "updated_pdf_path"
   ]
  }
 ],
 "metadata": {
  "kernelspec": {
   "display_name": "misc",
   "language": "python",
   "name": "python3"
  },
  "language_info": {
   "codemirror_mode": {
    "name": "ipython",
    "version": 3
   },
   "file_extension": ".py",
   "mimetype": "text/x-python",
   "name": "python",
   "nbconvert_exporter": "python",
   "pygments_lexer": "ipython3",
   "version": "3.11.9"
  }
 },
 "nbformat": 4,
 "nbformat_minor": 2
}
